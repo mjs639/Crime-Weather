{
 "cells": [
  {
   "cell_type": "code",
   "execution_count": null,
   "metadata": {},
   "outputs": [],
   "source": [
    "import pandas as pd\n",
    "import json\n",
    "import requests\n",
    "import datetime\n",
    "\n",
    "%pylab inline"
   ]
  },
  {
   "cell_type": "code",
   "execution_count": 3,
   "metadata": {},
   "outputs": [
    {
     "name": "stdout",
     "output_type": "stream",
     "text": [
      "['2006-01-01T00:00:00', '2006-01-02T00:00:00', '2006-01-03T00:00:00', '2006-01-04T00:00:00', '2006-01-05T00:00:00']\n",
      "['2016-12-27T00:00:00', '2016-12-28T00:00:00', '2016-12-29T00:00:00', '2016-12-30T00:00:00', '2016-12-31T00:00:00']\n"
     ]
    }
   ],
   "source": [
    "# Generate array of dates covering the NYC crime data (January 2006-December 2016)\n",
    "# Format dates in ISO notation to pass to DarkSky\n",
    "\n",
    "minDate = '01/01/2006'\n",
    "minDate_dt = datetime.datetime.strptime(minDate,'%m/%d/%Y')\n",
    "\n",
    "maxDate = '12/31/2016'\n",
    "maxDate_dt = datetime.datetime.strptime(maxDate,'%m/%d/%Y')\n",
    "\n",
    "dayDiff = maxDate_dt - minDate_dt\n",
    "dayDiff = dayDiff.days\n",
    "\n",
    "dt_array = pd.date_range(minDate, periods=dayDiff + 1).tolist()\n",
    "\n",
    "dateList = []\n",
    "for i in range(len(dt_array)):\n",
    "    dateList.append(datetime.date.strftime(dt_array[i],'%Y-%m-%dT00:00:00'))\n",
    "    \n",
    "print(dateList[:5])\n",
    "print(dateList[-5:])"
   ]
  },
  {
   "cell_type": "code",
   "execution_count": null,
   "metadata": {},
   "outputs": [],
   "source": [
    "# Get DarkSky data from API\n",
    "\n",
    "api_key = '979f0837a4bf901fbed916c72790e3f5'\n",
    "lat_long = '40.758896,-73.985130'\n",
    "date = '2018-02-02T00:00:00' # Must be [YYYY]-[MM]-[DD]T[HH]:[MM]:[SS] or UNIX timestamp\n",
    "\n",
    "response = requests.get('https://api.darksky.net/forecast/979f0837a4bf901fbed916c72790e3f5/40.758896,-73.985130,' + date + '?exclude=daily,currently,alerts,flags')\n",
    "response = response.json()"
   ]
  },
  {
   "cell_type": "code",
   "execution_count": 7,
   "metadata": {},
   "outputs": [
    {
     "data": {
      "text/plain": [
       "{'apparentTemperature': 26.8,\n",
       " 'cloudCover': 0.82,\n",
       " 'dewPoint': 28.43,\n",
       " 'humidity': 0.85,\n",
       " 'icon': 'partly-cloudy-night',\n",
       " 'precipIntensity': 0,\n",
       " 'precipProbability': 0,\n",
       " 'pressure': 1009.73,\n",
       " 'summary': 'Mostly Cloudy',\n",
       " 'temperature': 32.48,\n",
       " 'time': 1136091600,\n",
       " 'visibility': 8.84,\n",
       " 'windBearing': 335,\n",
       " 'windSpeed': 6}"
      ]
     },
     "execution_count": 7,
     "metadata": {},
     "output_type": "execute_result"
    }
   ],
   "source": [
    "# Short version of dates for testing\n",
    "\n",
    "dateShort = dateList[0:5]\n",
    "\n",
    "data_list = []\n",
    "for date in dateShort:\n",
    "    response = requests.get('https://api.darksky.net/forecast/979f0837a4bf901fbed916c72790e3f5/40.758896,-73.985130,' + date + '?exclude=daily,currently,alerts,flags')\n",
    "    response = response.json()['hourly']['data']\n",
    "    data_list.extend(response)\n",
    "data_list[0]"
   ]
  },
  {
   "cell_type": "code",
   "execution_count": 11,
   "metadata": {
    "collapsed": true
   },
   "outputs": [],
   "source": [
    "# # Get all data from DarkSky API\n",
    "# # Do not run\n",
    "\n",
    "# data_list = []\n",
    "# for date in dateList:\n",
    "#     response = requests.get('https://api.darksky.net/forecast/979f0837a4bf901fbed916c72790e3f5/40.758896,-73.985130,' + date + '?exclude=daily,currently,alerts,flags')\n",
    "#     response = response.json()['hourly']['data']\n",
    "#     data_list.extend(response)"
   ]
  },
  {
   "cell_type": "code",
   "execution_count": 10,
   "metadata": {
    "collapsed": true
   },
   "outputs": [],
   "source": [
    "# Save short output to file\n",
    "with open('Sample_DarkSky_Data.json', 'w') as outfile:\n",
    "    json.dump(data_list, outfile)"
   ]
  },
  {
   "cell_type": "code",
   "execution_count": 12,
   "metadata": {
    "collapsed": true
   },
   "outputs": [],
   "source": [
    "# # Save all output to file\n",
    "# with open('DarkSky_Data.json', 'w') as outfile:\n",
    "#     json.dump(data_list, outfile)"
   ]
  },
  {
   "cell_type": "code",
   "execution_count": null,
   "metadata": {
    "collapsed": true
   },
   "outputs": [],
   "source": []
  }
 ],
 "metadata": {
  "kernelspec": {
   "display_name": "Python 3",
   "language": "python",
   "name": "python3"
  },
  "language_info": {
   "codemirror_mode": {
    "name": "ipython",
    "version": 3
   },
   "file_extension": ".py",
   "mimetype": "text/x-python",
   "name": "python",
   "nbconvert_exporter": "python",
   "pygments_lexer": "ipython3",
   "version": "3.6.2"
  }
 },
 "nbformat": 4,
 "nbformat_minor": 2
}
